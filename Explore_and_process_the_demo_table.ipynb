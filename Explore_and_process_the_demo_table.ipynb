{
 "cells": [
  {
   "cell_type": "markdown",
   "id": "e13dac07",
   "metadata": {},
   "source": [
    "## Jan 2023\n",
    "## Process the demo table"
   ]
  },
  {
   "cell_type": "code",
   "execution_count": 1,
   "id": "a61bf1b8",
   "metadata": {},
   "outputs": [
    {
     "name": "stdout",
     "output_type": "stream",
     "text": [
      "Requirement already satisfied: fastparquet in /opt/conda/lib/python3.9/site-packages (2022.12.0)\n",
      "Requirement already satisfied: pandas>=1.5.0 in /opt/conda/lib/python3.9/site-packages (from fastparquet) (1.5.0)\n",
      "Requirement already satisfied: numpy>=1.20.3 in /opt/conda/lib/python3.9/site-packages (from fastparquet) (1.23.3)\n",
      "Requirement already satisfied: fsspec in /opt/conda/lib/python3.9/site-packages (from fastparquet) (2022.8.2)\n",
      "Requirement already satisfied: cramjam>=2.3 in /opt/conda/lib/python3.9/site-packages (from fastparquet) (2.6.2)\n",
      "Requirement already satisfied: packaging in /opt/conda/lib/python3.9/site-packages (from fastparquet) (21.3)\n",
      "Requirement already satisfied: python-dateutil>=2.8.1 in /opt/conda/lib/python3.9/site-packages (from pandas>=1.5.0->fastparquet) (2.8.2)\n",
      "Requirement already satisfied: pytz>=2020.1 in /opt/conda/lib/python3.9/site-packages (from pandas>=1.5.0->fastparquet) (2022.4)\n",
      "Requirement already satisfied: pyparsing!=3.0.5,>=2.0.2 in /opt/conda/lib/python3.9/site-packages (from packaging->fastparquet) (3.0.9)\n",
      "Requirement already satisfied: six>=1.5 in /opt/conda/lib/python3.9/site-packages (from python-dateutil>=2.8.1->pandas>=1.5.0->fastparquet) (1.16.0)\n"
     ]
    }
   ],
   "source": [
    "!pip install fastparquet"
   ]
  },
  {
   "cell_type": "code",
   "execution_count": 2,
   "id": "e833a50d",
   "metadata": {},
   "outputs": [],
   "source": [
    "import pandas as pd\n",
    "import numpy as np\n",
    "import os as os\n",
    "import datetime   \n",
    "\n",
    "pd.set_option('display.max_rows', 500)\n",
    "\n",
    "import seaborn as sns\n",
    "import matplotlib as plt\n",
    "\n",
    "datadir = '/challenge/seeing-through-the-fog/data/train_data'"
   ]
  },
  {
   "cell_type": "code",
   "execution_count": 3,
   "id": "3b64490e",
   "metadata": {},
   "outputs": [],
   "source": [
    "df_dem = pd.read_parquet(datadir + \"/\" + \"demo.parquet\")\n",
    "df_tar = pd.read_parquet(datadir + \"/\" + \"target.parquet\")"
   ]
  },
  {
   "cell_type": "code",
   "execution_count": 4,
   "id": "9d2e0769",
   "metadata": {},
   "outputs": [
    {
     "data": {
      "text/html": [
       "<div>\n",
       "<style scoped>\n",
       "    .dataframe tbody tr th:only-of-type {\n",
       "        vertical-align: middle;\n",
       "    }\n",
       "\n",
       "    .dataframe tbody tr th {\n",
       "        vertical-align: top;\n",
       "    }\n",
       "\n",
       "    .dataframe thead th {\n",
       "        text-align: right;\n",
       "    }\n",
       "</style>\n",
       "<table border=\"1\" class=\"dataframe\">\n",
       "  <thead>\n",
       "    <tr style=\"text-align: right;\">\n",
       "      <th></th>\n",
       "      <th>patientid</th>\n",
       "      <th>birth_yr</th>\n",
       "      <th>gender</th>\n",
       "      <th>race</th>\n",
       "      <th>ethnicity</th>\n",
       "      <th>index_month_year</th>\n",
       "    </tr>\n",
       "  </thead>\n",
       "  <tbody>\n",
       "    <tr>\n",
       "      <th>0</th>\n",
       "      <td>RAADC3-395646</td>\n",
       "      <td>1981</td>\n",
       "      <td>Male</td>\n",
       "      <td>Caucasian</td>\n",
       "      <td>Not Hispanic</td>\n",
       "      <td>2021-09-01</td>\n",
       "    </tr>\n",
       "    <tr>\n",
       "      <th>1</th>\n",
       "      <td>RAADC3-242960</td>\n",
       "      <td>1991</td>\n",
       "      <td>Female</td>\n",
       "      <td>Caucasian</td>\n",
       "      <td>Not Hispanic</td>\n",
       "      <td>2020-09-01</td>\n",
       "    </tr>\n",
       "    <tr>\n",
       "      <th>2</th>\n",
       "      <td>RAADC3-542300</td>\n",
       "      <td>1966</td>\n",
       "      <td>Male</td>\n",
       "      <td>Caucasian</td>\n",
       "      <td>Not Hispanic</td>\n",
       "      <td>2020-11-01</td>\n",
       "    </tr>\n",
       "    <tr>\n",
       "      <th>3</th>\n",
       "      <td>RAADC3-542620</td>\n",
       "      <td>1963</td>\n",
       "      <td>Female</td>\n",
       "      <td>Caucasian</td>\n",
       "      <td>Not Hispanic</td>\n",
       "      <td>2020-09-01</td>\n",
       "    </tr>\n",
       "    <tr>\n",
       "      <th>4</th>\n",
       "      <td>RAADC3-468258</td>\n",
       "      <td>1945</td>\n",
       "      <td>Male</td>\n",
       "      <td>Caucasian</td>\n",
       "      <td>Not Hispanic</td>\n",
       "      <td>2022-01-01</td>\n",
       "    </tr>\n",
       "  </tbody>\n",
       "</table>\n",
       "</div>"
      ],
      "text/plain": [
       "       patientid birth_yr  gender       race     ethnicity index_month_year\n",
       "0  RAADC3-395646     1981    Male  Caucasian  Not Hispanic       2021-09-01\n",
       "1  RAADC3-242960     1991  Female  Caucasian  Not Hispanic       2020-09-01\n",
       "2  RAADC3-542300     1966    Male  Caucasian  Not Hispanic       2020-11-01\n",
       "3  RAADC3-542620     1963  Female  Caucasian  Not Hispanic       2020-09-01\n",
       "4  RAADC3-468258     1945    Male  Caucasian  Not Hispanic       2022-01-01"
      ]
     },
     "execution_count": 4,
     "metadata": {},
     "output_type": "execute_result"
    }
   ],
   "source": [
    "df_dem.head()"
   ]
  },
  {
   "cell_type": "code",
   "execution_count": 5,
   "id": "ba9b0f31",
   "metadata": {},
   "outputs": [
    {
     "data": {
      "text/html": [
       "<div>\n",
       "<style scoped>\n",
       "    .dataframe tbody tr th:only-of-type {\n",
       "        vertical-align: middle;\n",
       "    }\n",
       "\n",
       "    .dataframe tbody tr th {\n",
       "        vertical-align: top;\n",
       "    }\n",
       "\n",
       "    .dataframe thead th {\n",
       "        text-align: right;\n",
       "    }\n",
       "</style>\n",
       "<table border=\"1\" class=\"dataframe\">\n",
       "  <thead>\n",
       "    <tr style=\"text-align: right;\">\n",
       "      <th></th>\n",
       "      <th>patientid</th>\n",
       "      <th>has_long_covid_diag</th>\n",
       "    </tr>\n",
       "  </thead>\n",
       "  <tbody>\n",
       "    <tr>\n",
       "      <th>0</th>\n",
       "      <td>RAADC3-395646</td>\n",
       "      <td>0</td>\n",
       "    </tr>\n",
       "    <tr>\n",
       "      <th>1</th>\n",
       "      <td>RAADC3-242960</td>\n",
       "      <td>0</td>\n",
       "    </tr>\n",
       "    <tr>\n",
       "      <th>2</th>\n",
       "      <td>RAADC3-542300</td>\n",
       "      <td>0</td>\n",
       "    </tr>\n",
       "    <tr>\n",
       "      <th>3</th>\n",
       "      <td>RAADC3-542620</td>\n",
       "      <td>0</td>\n",
       "    </tr>\n",
       "    <tr>\n",
       "      <th>4</th>\n",
       "      <td>RAADC3-468258</td>\n",
       "      <td>0</td>\n",
       "    </tr>\n",
       "  </tbody>\n",
       "</table>\n",
       "</div>"
      ],
      "text/plain": [
       "       patientid  has_long_covid_diag\n",
       "0  RAADC3-395646                    0\n",
       "1  RAADC3-242960                    0\n",
       "2  RAADC3-542300                    0\n",
       "3  RAADC3-542620                    0\n",
       "4  RAADC3-468258                    0"
      ]
     },
     "execution_count": 5,
     "metadata": {},
     "output_type": "execute_result"
    }
   ],
   "source": [
    "df_tar.head()"
   ]
  },
  {
   "cell_type": "code",
   "execution_count": 6,
   "id": "0fb8973e",
   "metadata": {},
   "outputs": [],
   "source": [
    "df_dem_tar = df_dem.merge(df_tar, on='patientid')"
   ]
  },
  {
   "cell_type": "code",
   "execution_count": 7,
   "id": "549ef606",
   "metadata": {},
   "outputs": [
    {
     "name": "stdout",
     "output_type": "stream",
     "text": [
      "(395364, 7)\n",
      "(395364, 6)\n"
     ]
    }
   ],
   "source": [
    "print(df_dem_tar.shape)\n",
    "print(df_dem.shape)"
   ]
  },
  {
   "cell_type": "code",
   "execution_count": 8,
   "id": "395d2cf6",
   "metadata": {},
   "outputs": [
    {
     "data": {
      "text/html": [
       "<div>\n",
       "<style scoped>\n",
       "    .dataframe tbody tr th:only-of-type {\n",
       "        vertical-align: middle;\n",
       "    }\n",
       "\n",
       "    .dataframe tbody tr th {\n",
       "        vertical-align: top;\n",
       "    }\n",
       "\n",
       "    .dataframe thead th {\n",
       "        text-align: right;\n",
       "    }\n",
       "</style>\n",
       "<table border=\"1\" class=\"dataframe\">\n",
       "  <thead>\n",
       "    <tr style=\"text-align: right;\">\n",
       "      <th></th>\n",
       "      <th>patientid</th>\n",
       "      <th>birth_yr</th>\n",
       "      <th>gender</th>\n",
       "      <th>race</th>\n",
       "      <th>ethnicity</th>\n",
       "      <th>index_month_year</th>\n",
       "      <th>has_long_covid_diag</th>\n",
       "    </tr>\n",
       "  </thead>\n",
       "  <tbody>\n",
       "    <tr>\n",
       "      <th>0</th>\n",
       "      <td>RAADC3-395646</td>\n",
       "      <td>1981</td>\n",
       "      <td>Male</td>\n",
       "      <td>Caucasian</td>\n",
       "      <td>Not Hispanic</td>\n",
       "      <td>2021-09-01</td>\n",
       "      <td>0</td>\n",
       "    </tr>\n",
       "    <tr>\n",
       "      <th>1</th>\n",
       "      <td>RAADC3-242960</td>\n",
       "      <td>1991</td>\n",
       "      <td>Female</td>\n",
       "      <td>Caucasian</td>\n",
       "      <td>Not Hispanic</td>\n",
       "      <td>2020-09-01</td>\n",
       "      <td>0</td>\n",
       "    </tr>\n",
       "    <tr>\n",
       "      <th>2</th>\n",
       "      <td>RAADC3-542300</td>\n",
       "      <td>1966</td>\n",
       "      <td>Male</td>\n",
       "      <td>Caucasian</td>\n",
       "      <td>Not Hispanic</td>\n",
       "      <td>2020-11-01</td>\n",
       "      <td>0</td>\n",
       "    </tr>\n",
       "    <tr>\n",
       "      <th>3</th>\n",
       "      <td>RAADC3-542620</td>\n",
       "      <td>1963</td>\n",
       "      <td>Female</td>\n",
       "      <td>Caucasian</td>\n",
       "      <td>Not Hispanic</td>\n",
       "      <td>2020-09-01</td>\n",
       "      <td>0</td>\n",
       "    </tr>\n",
       "    <tr>\n",
       "      <th>4</th>\n",
       "      <td>RAADC3-468258</td>\n",
       "      <td>1945</td>\n",
       "      <td>Male</td>\n",
       "      <td>Caucasian</td>\n",
       "      <td>Not Hispanic</td>\n",
       "      <td>2022-01-01</td>\n",
       "      <td>0</td>\n",
       "    </tr>\n",
       "  </tbody>\n",
       "</table>\n",
       "</div>"
      ],
      "text/plain": [
       "       patientid birth_yr  gender       race     ethnicity index_month_year  \\\n",
       "0  RAADC3-395646     1981    Male  Caucasian  Not Hispanic       2021-09-01   \n",
       "1  RAADC3-242960     1991  Female  Caucasian  Not Hispanic       2020-09-01   \n",
       "2  RAADC3-542300     1966    Male  Caucasian  Not Hispanic       2020-11-01   \n",
       "3  RAADC3-542620     1963  Female  Caucasian  Not Hispanic       2020-09-01   \n",
       "4  RAADC3-468258     1945    Male  Caucasian  Not Hispanic       2022-01-01   \n",
       "\n",
       "   has_long_covid_diag  \n",
       "0                    0  \n",
       "1                    0  \n",
       "2                    0  \n",
       "3                    0  \n",
       "4                    0  "
      ]
     },
     "execution_count": 8,
     "metadata": {},
     "output_type": "execute_result"
    }
   ],
   "source": [
    "df_dem_tar.head()"
   ]
  },
  {
   "cell_type": "code",
   "execution_count": 9,
   "id": "864650c4",
   "metadata": {},
   "outputs": [
    {
     "data": {
      "text/plain": [
       "0   2021-09-01\n",
       "Name: index_month_year, dtype: datetime64[ns]"
      ]
     },
     "execution_count": 9,
     "metadata": {},
     "output_type": "execute_result"
    }
   ],
   "source": [
    "df_dem_tar[df_dem_tar['patientid']=='RAADC3-395646']['index_month_year']"
   ]
  },
  {
   "cell_type": "markdown",
   "id": "43031c58",
   "metadata": {},
   "source": [
    "## Process index_month_year\n",
    "### cases after 2021-06-01 tend to have higher COVID rate\n",
    "### Make a new numerical column as \"index_month_year_from 2020-01-01\""
   ]
  },
  {
   "cell_type": "code",
   "execution_count": 10,
   "id": "c60c5465",
   "metadata": {},
   "outputs": [],
   "source": [
    "## Create datetime64 object for YYYY-MM-DD\n",
    "date_covid_breakout_string = '2020-01-01'\n",
    "date_covid_breakout = pd.to_datetime(date_covid_breakout_string).to_numpy()\n",
    "\n",
    "## \n",
    "date_long_covid_string = '2021-06-01'\n",
    "date_long_covid = pd.to_datetime(date_long_covid_string).to_numpy()"
   ]
  },
  {
   "cell_type": "code",
   "execution_count": 12,
   "id": "78abe014",
   "metadata": {},
   "outputs": [],
   "source": [
    "df_dem_tar['index_month_year_from_begin'] = df_dem_tar['index_month_year'] - date_covid_breakout\n",
    "df_dem_tar['after_long_covid_start'] = df_dem_tar['index_month_year'] > date_long_covid"
   ]
  },
  {
   "cell_type": "code",
   "execution_count": 13,
   "id": "81a534bd",
   "metadata": {},
   "outputs": [
    {
     "data": {
      "text/html": [
       "<div>\n",
       "<style scoped>\n",
       "    .dataframe tbody tr th:only-of-type {\n",
       "        vertical-align: middle;\n",
       "    }\n",
       "\n",
       "    .dataframe tbody tr th {\n",
       "        vertical-align: top;\n",
       "    }\n",
       "\n",
       "    .dataframe thead th {\n",
       "        text-align: right;\n",
       "    }\n",
       "</style>\n",
       "<table border=\"1\" class=\"dataframe\">\n",
       "  <thead>\n",
       "    <tr style=\"text-align: right;\">\n",
       "      <th></th>\n",
       "      <th>patientid</th>\n",
       "      <th>birth_yr</th>\n",
       "      <th>gender</th>\n",
       "      <th>race</th>\n",
       "      <th>ethnicity</th>\n",
       "      <th>index_month_year</th>\n",
       "      <th>has_long_covid_diag</th>\n",
       "      <th>index_month_year_from_begin</th>\n",
       "      <th>after_long_covid_start</th>\n",
       "    </tr>\n",
       "  </thead>\n",
       "  <tbody>\n",
       "    <tr>\n",
       "      <th>0</th>\n",
       "      <td>RAADC3-395646</td>\n",
       "      <td>1981</td>\n",
       "      <td>Male</td>\n",
       "      <td>Caucasian</td>\n",
       "      <td>Not Hispanic</td>\n",
       "      <td>2021-09-01</td>\n",
       "      <td>0</td>\n",
       "      <td>609 days</td>\n",
       "      <td>True</td>\n",
       "    </tr>\n",
       "    <tr>\n",
       "      <th>1</th>\n",
       "      <td>RAADC3-242960</td>\n",
       "      <td>1991</td>\n",
       "      <td>Female</td>\n",
       "      <td>Caucasian</td>\n",
       "      <td>Not Hispanic</td>\n",
       "      <td>2020-09-01</td>\n",
       "      <td>0</td>\n",
       "      <td>244 days</td>\n",
       "      <td>False</td>\n",
       "    </tr>\n",
       "    <tr>\n",
       "      <th>2</th>\n",
       "      <td>RAADC3-542300</td>\n",
       "      <td>1966</td>\n",
       "      <td>Male</td>\n",
       "      <td>Caucasian</td>\n",
       "      <td>Not Hispanic</td>\n",
       "      <td>2020-11-01</td>\n",
       "      <td>0</td>\n",
       "      <td>305 days</td>\n",
       "      <td>False</td>\n",
       "    </tr>\n",
       "    <tr>\n",
       "      <th>3</th>\n",
       "      <td>RAADC3-542620</td>\n",
       "      <td>1963</td>\n",
       "      <td>Female</td>\n",
       "      <td>Caucasian</td>\n",
       "      <td>Not Hispanic</td>\n",
       "      <td>2020-09-01</td>\n",
       "      <td>0</td>\n",
       "      <td>244 days</td>\n",
       "      <td>False</td>\n",
       "    </tr>\n",
       "    <tr>\n",
       "      <th>4</th>\n",
       "      <td>RAADC3-468258</td>\n",
       "      <td>1945</td>\n",
       "      <td>Male</td>\n",
       "      <td>Caucasian</td>\n",
       "      <td>Not Hispanic</td>\n",
       "      <td>2022-01-01</td>\n",
       "      <td>0</td>\n",
       "      <td>731 days</td>\n",
       "      <td>True</td>\n",
       "    </tr>\n",
       "  </tbody>\n",
       "</table>\n",
       "</div>"
      ],
      "text/plain": [
       "       patientid birth_yr  gender       race     ethnicity index_month_year  \\\n",
       "0  RAADC3-395646     1981    Male  Caucasian  Not Hispanic       2021-09-01   \n",
       "1  RAADC3-242960     1991  Female  Caucasian  Not Hispanic       2020-09-01   \n",
       "2  RAADC3-542300     1966    Male  Caucasian  Not Hispanic       2020-11-01   \n",
       "3  RAADC3-542620     1963  Female  Caucasian  Not Hispanic       2020-09-01   \n",
       "4  RAADC3-468258     1945    Male  Caucasian  Not Hispanic       2022-01-01   \n",
       "\n",
       "   has_long_covid_diag index_month_year_from_begin  after_long_covid_start  \n",
       "0                    0                    609 days                    True  \n",
       "1                    0                    244 days                   False  \n",
       "2                    0                    305 days                   False  \n",
       "3                    0                    244 days                   False  \n",
       "4                    0                    731 days                    True  "
      ]
     },
     "execution_count": 13,
     "metadata": {},
     "output_type": "execute_result"
    }
   ],
   "source": [
    "df_dem_tar.head()"
   ]
  },
  {
   "cell_type": "code",
   "execution_count": 14,
   "id": "87da0eb9",
   "metadata": {},
   "outputs": [
    {
     "name": "stdout",
     "output_type": "stream",
     "text": [
      "has_long_covid_diag          0     1\n",
      "after_long_covid_start              \n",
      "False                   325070    86\n",
      "True                     68688  1520\n"
     ]
    }
   ],
   "source": [
    "print(pd.crosstab(df_dem_tar.after_long_covid_start, df_dem_tar.has_long_covid_diag))"
   ]
  },
  {
   "cell_type": "code",
   "execution_count": 15,
   "id": "24663f6e",
   "metadata": {},
   "outputs": [
    {
     "data": {
      "text/plain": [
       "array(['1981', '1991', '1966', '1963', '1945', '1952', '1953', '1956',\n",
       "       '1989', '1976', '1984', '1982', '1988', '1977', '1951', '1987',\n",
       "       '1961', '1947', '1970', '1973', '1979', '1968', '1960', '1996',\n",
       "       '2001', '1962', '1957', '1950', '1985', '1967', '1995', '1974',\n",
       "       '1937', '1959', '1993', '1965', '1948', '1997', '1980', '1954',\n",
       "       '1972', '1955', '1998', '2002', '1964', '1944', '1983', '1958',\n",
       "       '1975', '1990', '1978', '2000', '1942', '1999', '1986', '1992',\n",
       "       '1994', '1933', '1949', '1971', '1941', '1932 and Earlier', '1939',\n",
       "       '1946', '1938', '1934', '1943', '1936', '1969', '2003', '1935',\n",
       "       '1940', 'Unknown', '2004'], dtype=object)"
      ]
     },
     "execution_count": 15,
     "metadata": {},
     "output_type": "execute_result"
    }
   ],
   "source": [
    "df_dem_tar['birth_yr'].unique()"
   ]
  },
  {
   "cell_type": "markdown",
   "id": "e762510c",
   "metadata": {},
   "source": [
    "### 1404 patients have unknown birthyr"
   ]
  },
  {
   "cell_type": "code",
   "execution_count": 16,
   "id": "0407b5c1",
   "metadata": {},
   "outputs": [
    {
     "data": {
      "text/plain": [
       "(1404, 9)"
      ]
     },
     "execution_count": 16,
     "metadata": {},
     "output_type": "execute_result"
    }
   ],
   "source": [
    "df_dem_tar[df_dem_tar['birth_yr']=='Unknown'].shape"
   ]
  },
  {
   "cell_type": "code",
   "execution_count": 17,
   "id": "3f136ea4",
   "metadata": {},
   "outputs": [
    {
     "data": {
      "text/plain": [
       "(5801, 9)"
      ]
     },
     "execution_count": 17,
     "metadata": {},
     "output_type": "execute_result"
    }
   ],
   "source": [
    "df_dem_tar[df_dem_tar['birth_yr']=='1932 and Earlier'].shape"
   ]
  },
  {
   "cell_type": "code",
   "execution_count": 18,
   "id": "18f86066",
   "metadata": {},
   "outputs": [],
   "source": [
    "df_dem_tar['birth_yr_processed'] = df_dem_tar['birth_yr']"
   ]
  },
  {
   "cell_type": "code",
   "execution_count": 25,
   "id": "fe7d9e5d",
   "metadata": {},
   "outputs": [
    {
     "data": {
      "text/plain": [
       "array(['1981', '1991', '1966', '1963', '1945', '1952', '1953', '1956',\n",
       "       '1989', '1976', '1984', '1982', '1988', '1977', '1951', '1987',\n",
       "       '1961', '1947', '1970', '1973', '1979', '1968', '1960', '1996',\n",
       "       '2001', '1962', '1957', '1950', '1985', '1967', '1995', '1974',\n",
       "       '1937', '1959', '1993', '1965', '1948', '1997', '1980', '1954',\n",
       "       '1972', '1955', '1998', '2002', '1964', '1944', '1983', '1958',\n",
       "       '1975', '1990', '1978', '2000', '1942', '1999', '1986', '1992',\n",
       "       '1994', '1933', '1949', '1971', '1941', 1932, '1939', '1946',\n",
       "       '1938', '1934', '1943', '1936', '1969', '2003', '1935', '1940',\n",
       "       'Unknown', '2004'], dtype=object)"
      ]
     },
     "execution_count": 25,
     "metadata": {},
     "output_type": "execute_result"
    }
   ],
   "source": [
    "df_dem_tar['birth_yr_processed'].unique()"
   ]
  },
  {
   "cell_type": "code",
   "execution_count": 26,
   "id": "e92d6e65",
   "metadata": {},
   "outputs": [
    {
     "ename": "TypeError",
     "evalue": "string indices must be integers",
     "output_type": "error",
     "traceback": [
      "\u001b[0;31m---------------------------------------------------------------------------\u001b[0m",
      "\u001b[0;31mTypeError\u001b[0m                                 Traceback (most recent call last)",
      "Cell \u001b[0;32mIn [26], line 2\u001b[0m\n\u001b[1;32m      1\u001b[0m \u001b[38;5;28;01mfor\u001b[39;00m row \u001b[38;5;129;01min\u001b[39;00m df_dem_tar:\n\u001b[0;32m----> 2\u001b[0m     \u001b[38;5;28;01mif\u001b[39;00m row[\u001b[38;5;124m'\u001b[39m\u001b[38;5;124mbirth_yr_processed\u001b[39m\u001b[38;5;124m'\u001b[39m]\u001b[38;5;241m.\u001b[39misnull():\n\u001b[1;32m      3\u001b[0m         row[\u001b[38;5;124m'\u001b[39m\u001b[38;5;124mbirth_yr_processed\u001b[39m\u001b[38;5;124m'\u001b[39m] \u001b[38;5;241m=\u001b[39m \u001b[38;5;241m1968\u001b[39m\n\u001b[1;32m      4\u001b[0m     \u001b[38;5;28;01melse\u001b[39;00m:\n",
      "\u001b[0;31mTypeError\u001b[0m: string indices must be integers"
     ]
    }
   ],
   "source": [
    "for row in df_dem_tar:\n",
    "    if row['birth_yr_processed'].isnull():\n",
    "        row['birth_yr_processed'] = 1968\n",
    "    else:\n",
    "        row['birth_yr_processed'] = row['birth_yr']"
   ]
  },
  {
   "cell_type": "code",
   "execution_count": 28,
   "id": "d56100e6",
   "metadata": {},
   "outputs": [],
   "source": [
    "df_dem_tar['birth_yr_processed'] = df_dem_tar['birth_yr_processed'].fillna(1968)\n",
    "\n",
    "df_dem_tar.loc[df_dem_tar['birth_yr_processed'].str.contains('Earlier', na=False), 'birth_yr_processed'] = 1932\n",
    "df_dem_tar.loc[df_dem_tar['birth_yr_processed'].str.contains('Un', na=False), 'birth_yr_processed'] = 1968 # median age"
   ]
  },
  {
   "cell_type": "code",
   "execution_count": 29,
   "id": "7a264ede",
   "metadata": {},
   "outputs": [
    {
     "data": {
      "text/plain": [
       "(395364, 10)"
      ]
     },
     "execution_count": 29,
     "metadata": {},
     "output_type": "execute_result"
    }
   ],
   "source": [
    "df_dem_tar.shape"
   ]
  },
  {
   "cell_type": "code",
   "execution_count": 31,
   "id": "9dfab8b1",
   "metadata": {},
   "outputs": [],
   "source": [
    "## Process age, take 2021 as median index_month_year\n",
    "df_dem_tar['age'] = 2021 - df_dem_tar['birth_yr_processed'].astype(int)"
   ]
  },
  {
   "cell_type": "code",
   "execution_count": 32,
   "id": "3ed146d5",
   "metadata": {},
   "outputs": [
    {
     "data": {
      "text/plain": [
       "0         40\n",
       "1         30\n",
       "2         55\n",
       "3         58\n",
       "4         76\n",
       "          ..\n",
       "395359    46\n",
       "395360    64\n",
       "395361    56\n",
       "395362    50\n",
       "395363    35\n",
       "Name: age, Length: 395364, dtype: int64"
      ]
     },
     "execution_count": 32,
     "metadata": {},
     "output_type": "execute_result"
    }
   ],
   "source": [
    "df_dem_tar['age']"
   ]
  },
  {
   "cell_type": "code",
   "execution_count": 33,
   "id": "2c537613",
   "metadata": {},
   "outputs": [
    {
     "name": "stdout",
     "output_type": "stream",
     "text": [
      "(395364, 11)\n",
      "(395364, 6)\n"
     ]
    }
   ],
   "source": [
    "print(df_dem_tar.shape)\n",
    "print(df_dem.shape)"
   ]
  },
  {
   "cell_type": "code",
   "execution_count": 34,
   "id": "2778ff4a",
   "metadata": {},
   "outputs": [
    {
     "data": {
      "text/html": [
       "<div>\n",
       "<style scoped>\n",
       "    .dataframe tbody tr th:only-of-type {\n",
       "        vertical-align: middle;\n",
       "    }\n",
       "\n",
       "    .dataframe tbody tr th {\n",
       "        vertical-align: top;\n",
       "    }\n",
       "\n",
       "    .dataframe thead th {\n",
       "        text-align: right;\n",
       "    }\n",
       "</style>\n",
       "<table border=\"1\" class=\"dataframe\">\n",
       "  <thead>\n",
       "    <tr style=\"text-align: right;\">\n",
       "      <th></th>\n",
       "      <th>patientid</th>\n",
       "      <th>birth_yr</th>\n",
       "      <th>gender</th>\n",
       "      <th>race</th>\n",
       "      <th>ethnicity</th>\n",
       "      <th>index_month_year</th>\n",
       "      <th>has_long_covid_diag</th>\n",
       "      <th>index_month_year_from_begin</th>\n",
       "      <th>after_long_covid_start</th>\n",
       "      <th>birth_yr_processed</th>\n",
       "      <th>age</th>\n",
       "    </tr>\n",
       "  </thead>\n",
       "  <tbody>\n",
       "    <tr>\n",
       "      <th>0</th>\n",
       "      <td>RAADC3-395646</td>\n",
       "      <td>1981</td>\n",
       "      <td>Male</td>\n",
       "      <td>Caucasian</td>\n",
       "      <td>Not Hispanic</td>\n",
       "      <td>2021-09-01</td>\n",
       "      <td>0</td>\n",
       "      <td>609 days</td>\n",
       "      <td>True</td>\n",
       "      <td>1981</td>\n",
       "      <td>40</td>\n",
       "    </tr>\n",
       "    <tr>\n",
       "      <th>1</th>\n",
       "      <td>RAADC3-242960</td>\n",
       "      <td>1991</td>\n",
       "      <td>Female</td>\n",
       "      <td>Caucasian</td>\n",
       "      <td>Not Hispanic</td>\n",
       "      <td>2020-09-01</td>\n",
       "      <td>0</td>\n",
       "      <td>244 days</td>\n",
       "      <td>False</td>\n",
       "      <td>1991</td>\n",
       "      <td>30</td>\n",
       "    </tr>\n",
       "    <tr>\n",
       "      <th>2</th>\n",
       "      <td>RAADC3-542300</td>\n",
       "      <td>1966</td>\n",
       "      <td>Male</td>\n",
       "      <td>Caucasian</td>\n",
       "      <td>Not Hispanic</td>\n",
       "      <td>2020-11-01</td>\n",
       "      <td>0</td>\n",
       "      <td>305 days</td>\n",
       "      <td>False</td>\n",
       "      <td>1966</td>\n",
       "      <td>55</td>\n",
       "    </tr>\n",
       "    <tr>\n",
       "      <th>3</th>\n",
       "      <td>RAADC3-542620</td>\n",
       "      <td>1963</td>\n",
       "      <td>Female</td>\n",
       "      <td>Caucasian</td>\n",
       "      <td>Not Hispanic</td>\n",
       "      <td>2020-09-01</td>\n",
       "      <td>0</td>\n",
       "      <td>244 days</td>\n",
       "      <td>False</td>\n",
       "      <td>1963</td>\n",
       "      <td>58</td>\n",
       "    </tr>\n",
       "    <tr>\n",
       "      <th>4</th>\n",
       "      <td>RAADC3-468258</td>\n",
       "      <td>1945</td>\n",
       "      <td>Male</td>\n",
       "      <td>Caucasian</td>\n",
       "      <td>Not Hispanic</td>\n",
       "      <td>2022-01-01</td>\n",
       "      <td>0</td>\n",
       "      <td>731 days</td>\n",
       "      <td>True</td>\n",
       "      <td>1945</td>\n",
       "      <td>76</td>\n",
       "    </tr>\n",
       "  </tbody>\n",
       "</table>\n",
       "</div>"
      ],
      "text/plain": [
       "       patientid birth_yr  gender       race     ethnicity index_month_year  \\\n",
       "0  RAADC3-395646     1981    Male  Caucasian  Not Hispanic       2021-09-01   \n",
       "1  RAADC3-242960     1991  Female  Caucasian  Not Hispanic       2020-09-01   \n",
       "2  RAADC3-542300     1966    Male  Caucasian  Not Hispanic       2020-11-01   \n",
       "3  RAADC3-542620     1963  Female  Caucasian  Not Hispanic       2020-09-01   \n",
       "4  RAADC3-468258     1945    Male  Caucasian  Not Hispanic       2022-01-01   \n",
       "\n",
       "   has_long_covid_diag index_month_year_from_begin  after_long_covid_start  \\\n",
       "0                    0                    609 days                    True   \n",
       "1                    0                    244 days                   False   \n",
       "2                    0                    305 days                   False   \n",
       "3                    0                    244 days                   False   \n",
       "4                    0                    731 days                    True   \n",
       "\n",
       "  birth_yr_processed  age  \n",
       "0               1981   40  \n",
       "1               1991   30  \n",
       "2               1966   55  \n",
       "3               1963   58  \n",
       "4               1945   76  "
      ]
     },
     "execution_count": 34,
     "metadata": {},
     "output_type": "execute_result"
    }
   ],
   "source": [
    "df_dem_tar.head()"
   ]
  },
  {
   "cell_type": "code",
   "execution_count": 35,
   "id": "404b0f28",
   "metadata": {},
   "outputs": [
    {
     "data": {
      "text/plain": [
       "Index(['patientid', 'birth_yr', 'gender', 'race', 'ethnicity',\n",
       "       'index_month_year', 'has_long_covid_diag',\n",
       "       'index_month_year_from_begin', 'after_long_covid_start',\n",
       "       'birth_yr_processed', 'age'],\n",
       "      dtype='object')"
      ]
     },
     "execution_count": 35,
     "metadata": {},
     "output_type": "execute_result"
    }
   ],
   "source": [
    "df_dem_tar.columns"
   ]
  },
  {
   "cell_type": "code",
   "execution_count": 36,
   "id": "51edce43",
   "metadata": {},
   "outputs": [],
   "source": [
    "df_dem_tar_processed = df_dem_tar[['patientid', 'birth_yr', 'gender', 'race', 'ethnicity',\\\n",
    "                                  'index_month_year', 'has_long_covid_diag', \\\n",
    "                                  'index_month_year_from_begin', 'after_long_covid_start','age']]"
   ]
  },
  {
   "cell_type": "code",
   "execution_count": null,
   "id": "7601b8f2",
   "metadata": {},
   "outputs": [],
   "source": [
    "df_dem_tar_processed.to_csv(\"/home/huangz36/dem_t\", sep='\\t', \\\n",
    "                                index=False, header=True)"
   ]
  }
 ],
 "metadata": {
  "kernelspec": {
   "display_name": "Python 3 (ipykernel)",
   "language": "python",
   "name": "python3"
  },
  "language_info": {
   "codemirror_mode": {
    "name": "ipython",
    "version": 3
   },
   "file_extension": ".py",
   "mimetype": "text/x-python",
   "name": "python",
   "nbconvert_exporter": "python",
   "pygments_lexer": "ipython3",
   "version": "3.9.7"
  }
 },
 "nbformat": 4,
 "nbformat_minor": 5
}
